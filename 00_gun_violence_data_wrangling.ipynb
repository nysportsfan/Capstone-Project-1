{
 "cells": [
  {
   "cell_type": "markdown",
   "metadata": {},
   "source": [
    "# Gun Violence Capstone Project"
   ]
  },
  {
   "cell_type": "markdown",
   "metadata": {},
   "source": [
    "## Data Wrangling "
   ]
  },
  {
   "cell_type": "markdown",
   "metadata": {},
   "source": [
    "**1. Import the necessary packages and data**"
   ]
  },
  {
   "cell_type": "code",
   "execution_count": 1,
   "metadata": {},
   "outputs": [],
   "source": [
    "import pandas as pd\n",
    "import numpy as np\n",
    "from datetime import datetime"
   ]
  },
  {
   "cell_type": "code",
   "execution_count": 2,
   "metadata": {},
   "outputs": [],
   "source": [
    "df = pd.read_csv('Downloads/Data/gun-violence-data_01-2013_03-2018.csv', parse_dates=['date'])"
   ]
  },
  {
   "cell_type": "markdown",
   "metadata": {},
   "source": [
    "**2. Preliminary data exploration**"
   ]
  },
  {
   "cell_type": "code",
   "execution_count": 3,
   "metadata": {},
   "outputs": [
    {
     "data": {
      "text/plain": [
       "(239677, 29)"
      ]
     },
     "execution_count": 3,
     "metadata": {},
     "output_type": "execute_result"
    }
   ],
   "source": [
    "df.shape"
   ]
  },
  {
   "cell_type": "code",
   "execution_count": 4,
   "metadata": {},
   "outputs": [
    {
     "data": {
      "text/html": [
       "<div>\n",
       "<style scoped>\n",
       "    .dataframe tbody tr th:only-of-type {\n",
       "        vertical-align: middle;\n",
       "    }\n",
       "\n",
       "    .dataframe tbody tr th {\n",
       "        vertical-align: top;\n",
       "    }\n",
       "\n",
       "    .dataframe thead th {\n",
       "        text-align: right;\n",
       "    }\n",
       "</style>\n",
       "<table border=\"1\" class=\"dataframe\">\n",
       "  <thead>\n",
       "    <tr style=\"text-align: right;\">\n",
       "      <th></th>\n",
       "      <th>incident_id</th>\n",
       "      <th>n_killed</th>\n",
       "      <th>n_injured</th>\n",
       "      <th>congressional_district</th>\n",
       "      <th>latitude</th>\n",
       "      <th>longitude</th>\n",
       "      <th>n_guns_involved</th>\n",
       "      <th>state_house_district</th>\n",
       "      <th>state_senate_district</th>\n",
       "    </tr>\n",
       "  </thead>\n",
       "  <tbody>\n",
       "    <tr>\n",
       "      <th>count</th>\n",
       "      <td>2.396770e+05</td>\n",
       "      <td>239677.000000</td>\n",
       "      <td>239677.000000</td>\n",
       "      <td>227733.000000</td>\n",
       "      <td>231754.000000</td>\n",
       "      <td>231754.000000</td>\n",
       "      <td>140226.000000</td>\n",
       "      <td>200905.000000</td>\n",
       "      <td>207342.00000</td>\n",
       "    </tr>\n",
       "    <tr>\n",
       "      <th>mean</th>\n",
       "      <td>5.593343e+05</td>\n",
       "      <td>0.252290</td>\n",
       "      <td>0.494007</td>\n",
       "      <td>8.001265</td>\n",
       "      <td>37.546598</td>\n",
       "      <td>-89.338348</td>\n",
       "      <td>1.372442</td>\n",
       "      <td>55.447132</td>\n",
       "      <td>20.47711</td>\n",
       "    </tr>\n",
       "    <tr>\n",
       "      <th>std</th>\n",
       "      <td>2.931287e+05</td>\n",
       "      <td>0.521779</td>\n",
       "      <td>0.729952</td>\n",
       "      <td>8.480835</td>\n",
       "      <td>5.130763</td>\n",
       "      <td>14.359546</td>\n",
       "      <td>4.678202</td>\n",
       "      <td>42.048117</td>\n",
       "      <td>14.20456</td>\n",
       "    </tr>\n",
       "    <tr>\n",
       "      <th>min</th>\n",
       "      <td>9.211400e+04</td>\n",
       "      <td>0.000000</td>\n",
       "      <td>0.000000</td>\n",
       "      <td>0.000000</td>\n",
       "      <td>19.111400</td>\n",
       "      <td>-171.429000</td>\n",
       "      <td>1.000000</td>\n",
       "      <td>1.000000</td>\n",
       "      <td>1.00000</td>\n",
       "    </tr>\n",
       "    <tr>\n",
       "      <th>25%</th>\n",
       "      <td>3.085450e+05</td>\n",
       "      <td>0.000000</td>\n",
       "      <td>0.000000</td>\n",
       "      <td>2.000000</td>\n",
       "      <td>33.903400</td>\n",
       "      <td>-94.158725</td>\n",
       "      <td>1.000000</td>\n",
       "      <td>21.000000</td>\n",
       "      <td>9.00000</td>\n",
       "    </tr>\n",
       "    <tr>\n",
       "      <th>50%</th>\n",
       "      <td>5.435870e+05</td>\n",
       "      <td>0.000000</td>\n",
       "      <td>0.000000</td>\n",
       "      <td>5.000000</td>\n",
       "      <td>38.570600</td>\n",
       "      <td>-86.249600</td>\n",
       "      <td>1.000000</td>\n",
       "      <td>47.000000</td>\n",
       "      <td>19.00000</td>\n",
       "    </tr>\n",
       "    <tr>\n",
       "      <th>75%</th>\n",
       "      <td>8.172280e+05</td>\n",
       "      <td>0.000000</td>\n",
       "      <td>1.000000</td>\n",
       "      <td>10.000000</td>\n",
       "      <td>41.437375</td>\n",
       "      <td>-80.048625</td>\n",
       "      <td>1.000000</td>\n",
       "      <td>84.000000</td>\n",
       "      <td>30.00000</td>\n",
       "    </tr>\n",
       "    <tr>\n",
       "      <th>max</th>\n",
       "      <td>1.083472e+06</td>\n",
       "      <td>50.000000</td>\n",
       "      <td>53.000000</td>\n",
       "      <td>53.000000</td>\n",
       "      <td>71.336800</td>\n",
       "      <td>97.433100</td>\n",
       "      <td>400.000000</td>\n",
       "      <td>901.000000</td>\n",
       "      <td>94.00000</td>\n",
       "    </tr>\n",
       "  </tbody>\n",
       "</table>\n",
       "</div>"
      ],
      "text/plain": [
       "        incident_id       n_killed      n_injured  congressional_district  \\\n",
       "count  2.396770e+05  239677.000000  239677.000000           227733.000000   \n",
       "mean   5.593343e+05       0.252290       0.494007                8.001265   \n",
       "std    2.931287e+05       0.521779       0.729952                8.480835   \n",
       "min    9.211400e+04       0.000000       0.000000                0.000000   \n",
       "25%    3.085450e+05       0.000000       0.000000                2.000000   \n",
       "50%    5.435870e+05       0.000000       0.000000                5.000000   \n",
       "75%    8.172280e+05       0.000000       1.000000               10.000000   \n",
       "max    1.083472e+06      50.000000      53.000000               53.000000   \n",
       "\n",
       "            latitude      longitude  n_guns_involved  state_house_district  \\\n",
       "count  231754.000000  231754.000000    140226.000000         200905.000000   \n",
       "mean       37.546598     -89.338348         1.372442             55.447132   \n",
       "std         5.130763      14.359546         4.678202             42.048117   \n",
       "min        19.111400    -171.429000         1.000000              1.000000   \n",
       "25%        33.903400     -94.158725         1.000000             21.000000   \n",
       "50%        38.570600     -86.249600         1.000000             47.000000   \n",
       "75%        41.437375     -80.048625         1.000000             84.000000   \n",
       "max        71.336800      97.433100       400.000000            901.000000   \n",
       "\n",
       "       state_senate_district  \n",
       "count           207342.00000  \n",
       "mean                20.47711  \n",
       "std                 14.20456  \n",
       "min                  1.00000  \n",
       "25%                  9.00000  \n",
       "50%                 19.00000  \n",
       "75%                 30.00000  \n",
       "max                 94.00000  "
      ]
     },
     "execution_count": 4,
     "metadata": {},
     "output_type": "execute_result"
    }
   ],
   "source": [
    "df.describe()"
   ]
  },
  {
   "cell_type": "code",
   "execution_count": 5,
   "metadata": {},
   "outputs": [
    {
     "name": "stdout",
     "output_type": "stream",
     "text": [
      "<class 'pandas.core.frame.DataFrame'>\n",
      "RangeIndex: 239677 entries, 0 to 239676\n",
      "Data columns (total 29 columns):\n",
      "incident_id                    239677 non-null int64\n",
      "date                           239677 non-null datetime64[ns]\n",
      "state                          239677 non-null object\n",
      "city_or_county                 239677 non-null object\n",
      "address                        223180 non-null object\n",
      "n_killed                       239677 non-null int64\n",
      "n_injured                      239677 non-null int64\n",
      "incident_url                   239677 non-null object\n",
      "source_url                     239209 non-null object\n",
      "incident_url_fields_missing    239677 non-null bool\n",
      "congressional_district         227733 non-null float64\n",
      "gun_stolen                     140179 non-null object\n",
      "gun_type                       140226 non-null object\n",
      "incident_characteristics       239351 non-null object\n",
      "latitude                       231754 non-null float64\n",
      "location_description           42089 non-null object\n",
      "longitude                      231754 non-null float64\n",
      "n_guns_involved                140226 non-null float64\n",
      "notes                          158660 non-null object\n",
      "participant_age                147379 non-null object\n",
      "participant_age_group          197558 non-null object\n",
      "participant_gender             203315 non-null object\n",
      "participant_name               117424 non-null object\n",
      "participant_relationship       15774 non-null object\n",
      "participant_status             212051 non-null object\n",
      "participant_type               214814 non-null object\n",
      "sources                        239068 non-null object\n",
      "state_house_district           200905 non-null float64\n",
      "state_senate_district          207342 non-null float64\n",
      "dtypes: bool(1), datetime64[ns](1), float64(6), int64(3), object(18)\n",
      "memory usage: 51.4+ MB\n"
     ]
    }
   ],
   "source": [
    "df.info()"
   ]
  },
  {
   "cell_type": "markdown",
   "metadata": {},
   "source": [
    "Some of these columns are not very helpful for the scope of this project, such as incident_id, incident_url, notes, and sources. These will need to be dropped."
   ]
  },
  {
   "cell_type": "code",
   "execution_count": 6,
   "metadata": {},
   "outputs": [],
   "source": [
    "# Drop irrelevant columns\n",
    "df.drop(['incident_id','incident_url','source_url','incident_url_fields_missing','location_description','notes','participant_name','participant_relationship', 'sources', 'participant_status', 'address', 'gun_stolen'], axis = 1, inplace = True)"
   ]
  },
  {
   "cell_type": "code",
   "execution_count": 7,
   "metadata": {
    "scrolled": false
   },
   "outputs": [
    {
     "data": {
      "text/plain": [
       "date                            0\n",
       "state                           0\n",
       "city_or_county                  0\n",
       "n_killed                        0\n",
       "n_injured                       0\n",
       "congressional_district      11944\n",
       "gun_type                    99451\n",
       "incident_characteristics      326\n",
       "latitude                     7923\n",
       "longitude                    7923\n",
       "n_guns_involved             99451\n",
       "participant_age             92298\n",
       "participant_age_group       42119\n",
       "participant_gender          36362\n",
       "participant_type            24863\n",
       "state_house_district        38772\n",
       "state_senate_district       32335\n",
       "dtype: int64"
      ]
     },
     "execution_count": 7,
     "metadata": {},
     "output_type": "execute_result"
    }
   ],
   "source": [
    "# Observe the missing data\n",
    "df.isnull().sum()"
   ]
  },
  {
   "cell_type": "markdown",
   "metadata": {},
   "source": [
    "There is a lot of missing data but most important columns (n_killed, n_injured, state, city_or_county, date) are all filled. However, incident_characteristics is missing 326 rows so we will need to drop those rows. We can also drop latitude and longitude since we will be using city_or_county for the location."
   ]
  },
  {
   "cell_type": "code",
   "execution_count": 8,
   "metadata": {},
   "outputs": [],
   "source": [
    "# Drop missing rows for incident_characteristics\n",
    "df.dropna(how = 'any', subset = ['incident_characteristics', 'state_house_district', 'congressional_district', 'state_senate_district'], inplace = True)"
   ]
  },
  {
   "cell_type": "code",
   "execution_count": 9,
   "metadata": {},
   "outputs": [],
   "source": [
    "# Drop latitude and longitude\n",
    "df.drop(['latitude', 'longitude'], axis = 1, inplace = True)"
   ]
  },
  {
   "cell_type": "code",
   "execution_count": 10,
   "metadata": {},
   "outputs": [
    {
     "data": {
      "text/plain": [
       "0::Victim                                                                                    49871\n",
       "0::Victim||1::Subject-Suspect                                                                42728\n",
       "0::Subject-Suspect                                                                           36280\n",
       "0::Victim||1::Subject-Suspect||2::Subject-Suspect                                             9211\n",
       "0::Victim||1::Victim                                                                          7699\n",
       "0::Subject-Suspect||1::Subject-Suspect                                                        7125\n",
       "0::Victim||1::Victim||2::Subject-Suspect                                                      5500\n",
       "0::Victim||1::Subject-Suspect||2::Subject-Suspect||3::Subject-Suspect                         3090\n",
       "0::Subject-Suspect||1::Subject-Suspect||2::Subject-Suspect                                    2456\n",
       "0::Victim||1::Victim||2::Subject-Suspect||3::Subject-Suspect                                  1747\n",
       "0::Victim||1::Victim||2::Victim                                                               1714\n",
       "0::Victim||1::Victim||2::Victim||3::Subject-Suspect                                           1160\n",
       "0::Subject-Suspect||1::Subject-Suspect||2::Subject-Suspect||3::Subject-Suspect                1034\n",
       "0::Victim||1::Subject-Suspect||2::Subject-Suspect||3::Subject-Suspect||4::Subject-Suspect      962\n",
       "0::Subject-Suspect||1::Victim                                                                  902\n",
       "Name: participant_type, dtype: int64"
      ]
     },
     "execution_count": 10,
     "metadata": {},
     "output_type": "execute_result"
    }
   ],
   "source": [
    "# Subject-suspect implies that there may not be conclusive proof that the suspect was confirmed to be the shooter.\n",
    "# There could also have been more shooters in the incident so this column will not be entirely accurate. \n",
    "df['participant_type'].value_counts().head(15)"
   ]
  },
  {
   "cell_type": "markdown",
   "metadata": {},
   "source": [
    "Subject-suspect implies that there may not be conclusive proof that the suspect was confirmed to be the shooter. There could also have been more shooters in the incident so this column will not be entirely accurate. This column should be dropped."
   ]
  },
  {
   "cell_type": "code",
   "execution_count": 11,
   "metadata": {},
   "outputs": [],
   "source": [
    "# Drop participant_type since there are too many inconsistencies\n",
    "df.drop(['participant_type'], axis = 1, inplace = True)"
   ]
  },
  {
   "cell_type": "code",
   "execution_count": 12,
   "metadata": {},
   "outputs": [
    {
     "data": {
      "text/plain": [
       "(92906, 14)"
      ]
     },
     "execution_count": 12,
     "metadata": {},
     "output_type": "execute_result"
    }
   ],
   "source": [
    "# Number of rows where participant_age_group and gun_type are non-null values.\n",
    "df[df['participant_age_group'].notnull() & df['gun_type'].notnull()].shape"
   ]
  },
  {
   "cell_type": "code",
   "execution_count": 13,
   "metadata": {},
   "outputs": [
    {
     "data": {
      "text/plain": [
       "(73098, 14)"
      ]
     },
     "execution_count": 13,
     "metadata": {},
     "output_type": "execute_result"
    }
   ],
   "source": [
    "# Number of rows where participant_age and gun_type are non-null values.\n",
    "df[df['participant_age'].notnull() & df['gun_type'].notnull()].shape"
   ]
  },
  {
   "cell_type": "markdown",
   "metadata": {},
   "source": [
    "Using participant_age_group would provide us with over 20,000 more rows of data compared to participant_age. While the latter is more detailed, it would be difficult to account for outliers where the participants are seniors or toddlers. Therefore, we will be using participant_age_group as one of the feature variables."
   ]
  },
  {
   "cell_type": "code",
   "execution_count": 14,
   "metadata": {},
   "outputs": [],
   "source": [
    "# Drop participant_age since we will be using participant_age_group instead\n",
    "df.drop(['participant_age'], axis = 1, inplace = True)"
   ]
  },
  {
   "cell_type": "code",
   "execution_count": 15,
   "metadata": {},
   "outputs": [
    {
     "data": {
      "text/plain": [
       "0::Adult 18+                                                            79104\n",
       "0::Adult 18+||1::Adult 18+                                              41051\n",
       "0::Adult 18+||1::Adult 18+||2::Adult 18+                                11559\n",
       "0::Teen 12-17                                                            6296\n",
       "0::Adult 18+||1::Adult 18+||2::Adult 18+||3::Adult 18+                   4090\n",
       "1::Adult 18+                                                             3297\n",
       "0::Adult 18+||1::Teen 12-17                                              1648\n",
       "0::Teen 12-17||1::Adult 18+                                              1611\n",
       "0::Adult 18+||1::Adult 18+||2::Adult 18+||3::Adult 18+||4::Adult 18+     1455\n",
       "0::Teen 12-17||1::Teen 12-17                                             1409\n",
       "0:Adult 18+                                                              1080\n",
       "0::Child 0-11                                                             945\n",
       "1::Adult 18+||2::Adult 18+                                                822\n",
       "0:Adult 18+|1:Adult 18+                                                   801\n",
       "0::Adult 18+||1::Adult 18+||2::Teen 12-17                                 533\n",
       "Name: participant_age_group, dtype: int64"
      ]
     },
     "execution_count": 15,
     "metadata": {},
     "output_type": "execute_result"
    }
   ],
   "source": [
    "# View the most common age group values\n",
    "df.participant_age_group.value_counts().head(15)"
   ]
  },
  {
   "cell_type": "markdown",
   "metadata": {},
   "source": [
    "There is a different age group for each participant in the incidents. We will need to parse the data so that the ML algorithm understands how many people there are of each group (Child, Teen, or Adult) in each incident."
   ]
  },
  {
   "cell_type": "code",
   "execution_count": 16,
   "metadata": {},
   "outputs": [],
   "source": [
    "# Parse participant_age_group and separate them into 3 new columns.\n",
    "df['participant_age_group'].fillna('0::Unknown', inplace = True)\n",
    "\n",
    "def agegroup_cleanup(row):\n",
    "    agegroup_row_values = []\n",
    "    \n",
    "    agegroup_row = str(row).split(\"||\")\n",
    "    for x in agegroup_row :\n",
    "        agegroup_row_value = str(x).split(\"::\")\n",
    "        if len(agegroup_row_value) > 1 :\n",
    "            agegroup_row_values.append(agegroup_row_value[1])\n",
    "                \n",
    "    return agegroup_row_values\n",
    "\n",
    "agegroupvalues = df.participant_age_group.apply(agegroup_cleanup)\n",
    "df[\"agegroup_child\"] = agegroupvalues.apply(lambda x: x.count(\"Child 0-11\"))\n",
    "df[\"agegroup_teen\"] = agegroupvalues.apply(lambda x: x.count(\"Teen 12-17\"))\n",
    "df[\"agegroup_adult\"] = agegroupvalues.apply(lambda x: x.count(\"Adult 18+\"))"
   ]
  },
  {
   "cell_type": "code",
   "execution_count": 17,
   "metadata": {},
   "outputs": [
    {
     "data": {
      "text/plain": [
       "Shot - Wounded/Injured                                                                  40099\n",
       "Shot - Dead (murder, accidental, suicide)                                               19306\n",
       "Shots Fired - No Injuries                                                               12648\n",
       "Shot - Wounded/Injured||Drive-by (car to street, car to car)                             4490\n",
       "Shot - Wounded/Injured||Shot - Dead (murder, accidental, suicide)                        2704\n",
       "Armed robbery with injury/death and/or evidence of DGU found                             2646\n",
       "Shot - Wounded/Injured||Armed robbery with injury/death and/or evidence of DGU found     2559\n",
       "TSA Action                                                                               2378\n",
       "Non-Shooting Incident||TSA Action                                                        2117\n",
       "Shots Fired - No Injuries||Drive-by (car to street, car to car)                          2002\n",
       "Name: incident_characteristics, dtype: int64"
      ]
     },
     "execution_count": 17,
     "metadata": {},
     "output_type": "execute_result"
    }
   ],
   "source": [
    "df.incident_characteristics.value_counts().head(10)"
   ]
  },
  {
   "cell_type": "markdown",
   "metadata": {},
   "source": [
    "There are multiple non-shooting incidents so we will need to slice only the incidents which do not include 'Non-Shooting Incident' in the characteristics."
   ]
  },
  {
   "cell_type": "code",
   "execution_count": 18,
   "metadata": {},
   "outputs": [],
   "source": [
    "# Slice the incidents which do not contain 'Non-Shooting Incident'\n",
    "df = df[df['incident_characteristics'].str.contains('Non-Shooting Incident') == False]"
   ]
  },
  {
   "cell_type": "code",
   "execution_count": 19,
   "metadata": {},
   "outputs": [],
   "source": [
    "# Create 2 separate columns that contain the first and second characteristics for each row\n",
    "incident_dict = {}\n",
    "incident_dict2 = {}\n",
    "for i, x in df['incident_characteristics'].iteritems():\n",
    "    x = x.split('|')\n",
    "    incident_dict[i] = x[0]\n",
    "    if len(x)>1:\n",
    "        if x[1] == '':\n",
    "            incident_dict2[i] = x[2]\n",
    "        else:\n",
    "            incident_dict2[i] = x[1]\n",
    "df2 = pd.DataFrame([incident_dict, incident_dict2])\n",
    "df2 = df2.transpose()\n",
    "df2 = pd.concat([df, df2], axis = 'columns')\n",
    "df2.rename(columns={0:'primary_characteristic', 1: 'secondary_characteristic'}, inplace=True)"
   ]
  },
  {
   "cell_type": "code",
   "execution_count": 20,
   "metadata": {},
   "outputs": [
    {
     "data": {
      "text/plain": [
       "Shot - Wounded/Injured                                            79319\n",
       "Shot - Dead (murder, accidental, suicide)                         44132\n",
       "Shots Fired - No Injuries                                         28778\n",
       "Armed robbery with injury/death and/or evidence of DGU found      14997\n",
       "Officer Involved Incident                                         11943\n",
       "Drive-by (car to street, car to car)                              11556\n",
       "Possession (gun(s) found during commission of other crimes)       10355\n",
       "Domestic Violence                                                  7615\n",
       "Institution/Group/Business                                         7017\n",
       "Accidental Shooting                                                6744\n",
       "Brandishing/flourishing/open carry/lost/found                      6668\n",
       "Home Invasion                                                      5684\n",
       "Possession of gun by felon or prohibited person                    5507\n",
       "Defensive Use                                                      5298\n",
       "Accidental/Negligent Discharge                                     5264\n",
       "Drug involvement                                                   5204\n",
       "Accidental Shooting - Injury                                       4439\n",
       "Suicide^                                                           4370\n",
       "Gang involvement                                                   4255\n",
       "Officer Involved Shooting - subject/suspect/perpetrator killed     3766\n",
       "dtype: int64"
      ]
     },
     "execution_count": 20,
     "metadata": {},
     "output_type": "execute_result"
    }
   ],
   "source": [
    "# Parse the incident characteristics and store the 20 most common descriptions for graphical purposes\n",
    "big_text = \"||\".join(df['incident_characteristics']).split(\"||\")\n",
    "IC_series = pd.Series(big_text)\n",
    "IC_series.value_counts().head(20)"
   ]
  },
  {
   "cell_type": "markdown",
   "metadata": {},
   "source": [
    "Let's create separate columns for the dates and a total 'victims' column for injuries and killed."
   ]
  },
  {
   "cell_type": "code",
   "execution_count": 21,
   "metadata": {},
   "outputs": [],
   "source": [
    "# Convert 'date' column into datetime and create additional columns\n",
    "df['date'] = pd.to_datetime(df.date)\n",
    "df['year'] = df.date.dt.year\n",
    "df['month'] = df.date.dt.month\n",
    "df['monthday'] = df.date.dt.day\n",
    "df['weekday'] = df.date.dt.weekday"
   ]
  },
  {
   "cell_type": "markdown",
   "metadata": {},
   "source": [
    "Now let's take a look into the different gun types used in this dataset."
   ]
  },
  {
   "cell_type": "code",
   "execution_count": 22,
   "metadata": {},
   "outputs": [
    {
     "data": {
      "text/plain": [
       "NaN                       81657\n",
       "0::Unknown                65702\n",
       "0::Handgun                 5142\n",
       "0::9mm                     1393\n",
       "0::Unknown||1::Unknown     1255\n",
       "0::Shotgun                 1055\n",
       "0::22 LR                    790\n",
       "0::Rifle                    740\n",
       "0::40 SW                    585\n",
       "0::45 Auto                  507\n",
       "0::Handgun||1::Handgun      495\n",
       "0::380 Auto                 455\n",
       "0::38 Spl                   344\n",
       "0:Unknown                   215\n",
       "0::223 Rem [AR-15]          207\n",
       "Name: gun_type, dtype: int64"
      ]
     },
     "execution_count": 22,
     "metadata": {},
     "output_type": "execute_result"
    }
   ],
   "source": [
    "df['gun_type'].value_counts(dropna=False).head(15)"
   ]
  },
  {
   "cell_type": "code",
   "execution_count": 23,
   "metadata": {},
   "outputs": [
    {
     "data": {
      "text/plain": [
       "1.072587443343555"
      ]
     },
     "execution_count": 23,
     "metadata": {},
     "output_type": "execute_result"
    }
   ],
   "source": [
    "(93020 + 81043 + 1526)/len(df['gun_type'])"
   ]
  },
  {
   "cell_type": "markdown",
   "metadata": {},
   "source": [
    "At least 90.2% of gun_type entries are either classified as 'Unknown' or are missing. However, since the type of gun may have valuable correlation to the response variables (n_killed, n_injured), it may be better to keep them."
   ]
  },
  {
   "cell_type": "code",
   "execution_count": 24,
   "metadata": {},
   "outputs": [],
   "source": [
    "# Source: https://www.kaggle.com/shivamb/stop-gun-violence-updated-exploration\n",
    "# Create a new dictionary that presents the number of times each weapon is used and how many killed/injured for each one.\n",
    "df['gun_type'].fillna('0::Unknown', inplace = True)\n",
    "gt = df.groupby(by=['gun_type']).agg({'n_killed': 'sum', 'n_injured' : 'sum', 'state' : 'count'}).reset_index().rename(columns={'state':'count'})\n",
    "results = {}\n",
    "for i, each in gt.iterrows():\n",
    "    wrds = each['gun_type'].split(\"||\")\n",
    "    for wrd in wrds:\n",
    "        if \"Unknown\" in wrd:\n",
    "            continue\n",
    "        wrd = wrd.replace(\"::\",\":\").replace(\"|1\",\"\")\n",
    "        gtype = wrd.split(\":\")[1]\n",
    "        if gtype not in results: \n",
    "            results[gtype] = {'killed' : 0, 'injured' : 0, 'used' : 0}\n",
    "        results[gtype]['killed'] += each['n_killed']\n",
    "        results[gtype]['injured'] +=  each['n_injured']\n",
    "        results[gtype]['used'] +=  each['count']\n",
    "\n",
    "gun_names = list(results.keys())\n",
    "used = [each['used'] for each in list(results.values())]\n",
    "killed = [each['killed'] for each in list(results.values())]\n",
    "injured = [each['injured'] for each in list(results.values())]"
   ]
  },
  {
   "cell_type": "code",
   "execution_count": 25,
   "metadata": {},
   "outputs": [
    {
     "data": {
      "text/plain": [
       "Chicago         9970\n",
       "Baltimore       2665\n",
       "New Orleans     2345\n",
       "Milwaukee       2269\n",
       "Saint Louis     2223\n",
       "Jacksonville    2210\n",
       "Memphis         2045\n",
       "Columbus        1899\n",
       "Houston         1796\n",
       "Indianapolis    1575\n",
       "Cleveland       1498\n",
       "Detroit         1466\n",
       "Oakland         1397\n",
       "Kansas City     1193\n",
       "Las Vegas       1176\n",
       "Jackson         1159\n",
       "San Antonio     1138\n",
       "Brooklyn        1127\n",
       "Charlotte       1108\n",
       "Richmond        1100\n",
       "Name: city_or_county, dtype: int64"
      ]
     },
     "execution_count": 25,
     "metadata": {},
     "output_type": "execute_result"
    }
   ],
   "source": [
    "df['city_or_county'].value_counts().head(20)"
   ]
  },
  {
   "cell_type": "code",
   "execution_count": 26,
   "metadata": {},
   "outputs": [],
   "source": [
    "# Create a list of the top 15 most violent cities in the data\n",
    "city_list = df['city_or_county'].value_counts().head(15).index.tolist()\n",
    "\n",
    "# Keep only rows that contain one of the top 15 cities\n",
    "df = df[df['city_or_county'].apply(lambda x: x in city_list)]"
   ]
  },
  {
   "cell_type": "code",
   "execution_count": 27,
   "metadata": {},
   "outputs": [
    {
     "data": {
      "text/plain": [
       " 1.0     17696\n",
       "NaN      17357\n",
       " 2.0       549\n",
       " 3.0        88\n",
       " 4.0        18\n",
       " 5.0        11\n",
       " 6.0         2\n",
       " 15.0        1\n",
       " 43.0        1\n",
       " 12.0        1\n",
       " 20.0        1\n",
       " 11.0        1\n",
       " 8.0         1\n",
       "Name: n_guns_involved, dtype: int64"
      ]
     },
     "execution_count": 27,
     "metadata": {},
     "output_type": "execute_result"
    }
   ],
   "source": [
    "df['n_guns_involved'].value_counts(dropna = False)"
   ]
  },
  {
   "cell_type": "code",
   "execution_count": 28,
   "metadata": {},
   "outputs": [
    {
     "data": {
      "text/plain": [
       "1.126011140034148"
      ]
     },
     "execution_count": 28,
     "metadata": {},
     "output_type": "execute_result"
    }
   ],
   "source": [
    "(21014 + 19215)/ len(df['n_guns_involved'])"
   ]
  },
  {
   "cell_type": "markdown",
   "metadata": {},
   "source": [
    "Since this dataframe only includes shooting incidents, it would be safe to assume that the missing values are cases where at least 1 gun is used. However, since over 98% of the rows would be categorized as either '1' or missing, it would be best to simply not use the column."
   ]
  },
  {
   "cell_type": "code",
   "execution_count": 29,
   "metadata": {},
   "outputs": [],
   "source": [
    "df.drop('n_guns_involved', axis = 1, inplace = True)"
   ]
  },
  {
   "cell_type": "markdown",
   "metadata": {},
   "source": [
    "Next, let's take a look at the gender column which has quite a few missing values."
   ]
  },
  {
   "cell_type": "code",
   "execution_count": 30,
   "metadata": {},
   "outputs": [
    {
     "data": {
      "text/plain": [
       "0::Male                      15226\n",
       "0::Male||1::Male              7288\n",
       "NaN                           4254\n",
       "0::Male||1::Male||2::Male     2002\n",
       "0::Female                     1476\n",
       "Name: participant_gender, dtype: int64"
      ]
     },
     "execution_count": 30,
     "metadata": {},
     "output_type": "execute_result"
    }
   ],
   "source": [
    "df['participant_gender'].value_counts(dropna = False).head()"
   ]
  },
  {
   "cell_type": "code",
   "execution_count": 31,
   "metadata": {},
   "outputs": [
    {
     "data": {
      "text/plain": [
       "0.13997816777227307"
      ]
     },
     "execution_count": 31,
     "metadata": {},
     "output_type": "execute_result"
    }
   ],
   "source": [
    "5001/len(df['participant_gender'])"
   ]
  },
  {
   "cell_type": "markdown",
   "metadata": {},
   "source": [
    "12% of the data is missing but it could be valuable information. More importantly, it would be best to create dummy variable columns for each gender."
   ]
  },
  {
   "cell_type": "code",
   "execution_count": 32,
   "metadata": {},
   "outputs": [],
   "source": [
    "df['participant_gender'].fillna('0::Unknown', inplace = True)\n",
    "\n",
    "def gender_cleanup(row):\n",
    "    gender_row_values = []\n",
    "    \n",
    "    gender_row = str(row).split(\"||\")\n",
    "    for x in gender_row :\n",
    "        gender_row_value = str(x).split(\"::\")\n",
    "        if len(gender_row_value) > 1 :\n",
    "            gender_row_values.append(gender_row_value[1])\n",
    "                \n",
    "    return gender_row_values\n",
    "\n",
    "participant_genders = df.participant_gender.apply(gender_cleanup)\n",
    "df[\"participant_gender_total\"] = participant_genders.apply(lambda x: len(x))\n",
    "df[\"participant_gender_male\"] = participant_genders.apply(lambda x: x.count(\"Male\"))\n",
    "df[\"participant_gender_female\"] = participant_genders.apply(lambda x: x.count(\"Female\"))\n",
    "df[\"participant_gender_unknown\"] = participant_genders.apply(lambda x: x.count(\"Unknown\"))"
   ]
  },
  {
   "cell_type": "markdown",
   "metadata": {},
   "source": [
    "Now let's take a look at congressional_district, state_house_district, and state_senate_district for their missing values."
   ]
  },
  {
   "cell_type": "code",
   "execution_count": 33,
   "metadata": {},
   "outputs": [
    {
     "data": {
      "text/plain": [
       "7.0     7931\n",
       "1.0     5551\n",
       "4.0     4594\n",
       "2.0     4410\n",
       "9.0     2828\n",
       "5.0     2724\n",
       "13.0    2201\n",
       "3.0     2198\n",
       "11.0    1302\n",
       "18.0     779\n",
       "Name: congressional_district, dtype: int64"
      ]
     },
     "execution_count": 33,
     "metadata": {},
     "output_type": "execute_result"
    }
   ],
   "source": [
    "df['congressional_district'].value_counts(dropna=False).head(10)"
   ]
  },
  {
   "cell_type": "code",
   "execution_count": 34,
   "metadata": {},
   "outputs": [
    {
     "data": {
      "text/plain": [
       "0.06227782909284295"
      ]
     },
     "execution_count": 34,
     "metadata": {},
     "output_type": "execute_result"
    }
   ],
   "source": [
    "2225/len(df['congressional_district'])"
   ]
  },
  {
   "cell_type": "markdown",
   "metadata": {},
   "source": [
    "Since only 5.4% of the data is missing, we can simply drop the missing data.."
   ]
  },
  {
   "cell_type": "code",
   "execution_count": 35,
   "metadata": {},
   "outputs": [
    {
     "data": {
      "text/plain": [
       "10.0    2200\n",
       "18.0    1882\n",
       "9.0     1277\n",
       "13.0    1163\n",
       "8.0     1124\n",
       "40.0    1082\n",
       "6.0      978\n",
       "14.0     957\n",
       "93.0     928\n",
       "16.0     926\n",
       "Name: state_house_district, dtype: int64"
      ]
     },
     "execution_count": 35,
     "metadata": {},
     "output_type": "execute_result"
    }
   ],
   "source": [
    "df['state_house_district'].value_counts(dropna=False).head(10)"
   ]
  },
  {
   "cell_type": "code",
   "execution_count": 36,
   "metadata": {},
   "outputs": [
    {
     "data": {
      "text/plain": [
       "0.21348000111960141"
      ]
     },
     "execution_count": 36,
     "metadata": {},
     "output_type": "execute_result"
    }
   ],
   "source": [
    "7627/len(df['state_house_district'])"
   ]
  },
  {
   "cell_type": "markdown",
   "metadata": {},
   "source": [
    "18.5% of the data is missing so it would be best to simply drop the missing data."
   ]
  },
  {
   "cell_type": "code",
   "execution_count": 37,
   "metadata": {
    "scrolled": true
   },
   "outputs": [
    {
     "data": {
      "text/plain": [
       "5.0     4423\n",
       "4.0     3858\n",
       "9.0     3674\n",
       "3.0     2727\n",
       "15.0    1971\n",
       "6.0     1945\n",
       "13.0    1683\n",
       "21.0    1172\n",
       "33.0    1049\n",
       "1.0      993\n",
       "Name: state_senate_district, dtype: int64"
      ]
     },
     "execution_count": 37,
     "metadata": {},
     "output_type": "execute_result"
    }
   ],
   "source": [
    "df['state_senate_district'].value_counts(dropna=False).head(10)"
   ]
  },
  {
   "cell_type": "code",
   "execution_count": 38,
   "metadata": {},
   "outputs": [
    {
     "data": {
      "text/plain": [
       "0.18579785596327708"
      ]
     },
     "execution_count": 38,
     "metadata": {},
     "output_type": "execute_result"
    }
   ],
   "source": [
    "6638/len(df['state_senate_district'])"
   ]
  }
 ],
 "metadata": {
  "kernelspec": {
   "display_name": "Python 3",
   "language": "python",
   "name": "python3"
  },
  "language_info": {
   "codemirror_mode": {
    "name": "ipython",
    "version": 3
   },
   "file_extension": ".py",
   "mimetype": "text/x-python",
   "name": "python",
   "nbconvert_exporter": "python",
   "pygments_lexer": "ipython3",
   "version": "3.6.4"
  }
 },
 "nbformat": 4,
 "nbformat_minor": 2
}
