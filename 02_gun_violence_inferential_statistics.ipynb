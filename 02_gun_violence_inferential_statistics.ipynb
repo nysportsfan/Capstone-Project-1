{
 "cells": [
  {
   "cell_type": "markdown",
   "metadata": {},
   "source": [
    "# Gun Violence Capstone Project"
   ]
  },
  {
   "cell_type": "markdown",
   "metadata": {},
   "source": [
    "# Inferential Statistics"
   ]
  },
  {
   "cell_type": "markdown",
   "metadata": {},
   "source": [
    "The goal of this notebook is to perform inferential statistics on the Gun Violence dataset to obtain further insight in the relationship between the feature and response variables."
   ]
  },
  {
   "cell_type": "markdown",
   "metadata": {},
   "source": [
    "**0. Begin by importing relevant packages and data wrangling code.**"
   ]
  },
  {
   "cell_type": "code",
   "execution_count": 1,
   "metadata": {},
   "outputs": [],
   "source": [
    "# Packages\n",
    "import pandas as pd\n",
    "import numpy as np\n",
    "import matplotlib.pyplot as plt\n",
    "import seaborn as sns\n",
    "from datetime import datetime\n",
    "import scipy.stats as stats\n",
    "from scipy.stats import chi2\n",
    "from scipy.stats import shapiro\n",
    "import statsmodels.api as sm\n",
    "from statsmodels.formula.api import ols"
   ]
  },
  {
   "cell_type": "code",
   "execution_count": 2,
   "metadata": {},
   "outputs": [],
   "source": [
    "df = pd.read_csv('Downloads/Data/gun-violence-data_01-2013_03-2018.csv', parse_dates=['date'])\n",
    "df.drop(['incident_id','incident_url','source_url','incident_url_fields_missing','location_description','notes','participant_name','participant_relationship', 'sources', 'participant_status', 'address', 'latitude', 'longitude','participant_type','participant_age', 'gun_stolen', 'n_guns_involved'], axis = 1, inplace = True)\n",
    "df.dropna(how = 'any', subset = ['incident_characteristics', 'state_house_district', 'congressional_district', 'state_senate_district'], inplace = True)\n",
    "df['participant_age_group'].fillna('0::Unknown', inplace = True)\n",
    "def agegroup_cleanup(row):\n",
    "    agegroup_row_values = []\n",
    "    agegroup_row = str(row).split(\"||\")\n",
    "    for x in agegroup_row :\n",
    "        agegroup_row_value = str(x).split(\"::\")\n",
    "        if len(agegroup_row_value) > 1 :\n",
    "            agegroup_row_values.append(agegroup_row_value[1])\n",
    "    return agegroup_row_values\n",
    "agegroupvalues = df.participant_age_group.apply(agegroup_cleanup)\n",
    "df[\"agegroup_child\"] = agegroupvalues.apply(lambda x: x.count(\"Child 0-11\"))\n",
    "df[\"agegroup_teen\"] = agegroupvalues.apply(lambda x: x.count(\"Teen 12-17\"))\n",
    "df[\"agegroup_adult\"] = agegroupvalues.apply(lambda x: x.count(\"Adult 18+\"))\n",
    "df = df[df['incident_characteristics'].str.contains('Non-Shooting Incident') == False]\n",
    "df['date'] = pd.to_datetime(df.date)\n",
    "df['year'] = df.date.dt.year\n",
    "df['month'] = df.date.dt.month\n",
    "df['monthday'] = df.date.dt.day\n",
    "df['weekday'] = df.date.dt.weekday\n",
    "city_list = df['city_or_county'].value_counts().head(15).index.tolist()\n",
    "df = df[df['city_or_county'].apply(lambda x: x in city_list)]\n",
    "df['participant_gender'].fillna('0::Unknown', inplace = True)\n",
    "def gender_cleanup(row):\n",
    "    gender_row_values = []\n",
    "    gender_row = str(row).split(\"||\")\n",
    "    for x in gender_row :\n",
    "        gender_row_value = str(x).split(\"::\")\n",
    "        if len(gender_row_value) > 1 :\n",
    "            gender_row_values.append(gender_row_value[1])   \n",
    "    return gender_row_values\n",
    "participant_genders = df.participant_gender.apply(gender_cleanup)\n",
    "df[\"participant_gender_total\"] = participant_genders.apply(lambda x: len(x))\n",
    "df[\"participant_gender_male\"] = participant_genders.apply(lambda x: x.count(\"Male\"))\n",
    "df[\"participant_gender_female\"] = participant_genders.apply(lambda x: x.count(\"Female\"))\n",
    "df[\"participant_gender_unknown\"] = participant_genders.apply(lambda x: x.count(\"Unknown\"))\n",
    "big_text = \"||\".join(df['incident_characteristics']).split(\"||\")\n",
    "df['gun_type'].fillna('0::Unknown', inplace = True)\n",
    "gt = df.groupby(by=['gun_type']).agg({'n_killed': 'sum', 'n_injured' : 'sum', 'state' : 'count'}).reset_index().rename(columns={'state':'count'})\n",
    "results = {}\n",
    "for i, each in gt.iterrows():\n",
    "    wrds = each['gun_type'].split(\"||\")\n",
    "    for wrd in wrds:\n",
    "        if \"Unknown\" in wrd:\n",
    "            continue\n",
    "        wrd = wrd.replace(\"::\",\":\").replace(\"|1\",\"\")\n",
    "        gtype = wrd.split(\":\")[1]\n",
    "        if gtype not in results: \n",
    "            results[gtype] = {'killed' : 0, 'injured' : 0, 'used' : 0}\n",
    "        results[gtype]['killed'] += each['n_killed']\n",
    "        results[gtype]['injured'] +=  each['n_injured']\n",
    "        results[gtype]['used'] +=  each['count']\n",
    "gun_names = list(results.keys())\n",
    "used = [each['used'] for each in list(results.values())]\n",
    "killed = [each['killed'] for each in list(results.values())]\n",
    "injured = [each['injured'] for each in list(results.values())]\n",
    "incident_dict = {}\n",
    "incident_dict2 = {}\n",
    "for i, x in df['incident_characteristics'].iteritems():\n",
    "    x = x.split('|')\n",
    "    incident_dict[i] = x[0]\n",
    "    if len(x)>1:\n",
    "        if x[1] == '':\n",
    "            incident_dict2[i] = x[2]\n",
    "        else:\n",
    "            incident_dict2[i] = x[1]\n",
    "df2 = pd.DataFrame([incident_dict, incident_dict2])\n",
    "df2 = df2.transpose()\n",
    "df = pd.concat([df, df2], axis = 'columns')\n",
    "df.rename(columns={0:'primary_characteristic', 1: 'secondary_characteristic'}, inplace=True)"
   ]
  },
  {
   "cell_type": "code",
   "execution_count": 3,
   "metadata": {},
   "outputs": [],
   "source": [
    "# To make the city data numerical, let's convert it into Categorical first.\n",
    "df['city_or_county'] = pd.Categorical(df.city_or_county)\n",
    "df['mapped_cities'] = df.city_or_county.cat.codes\n",
    "\n",
    "# Do the same for the incident characteristics columns.\n",
    "df['primary_characteristic'] = pd.Categorical(df.primary_characteristic)\n",
    "df['mapped_primary'] = df.primary_characteristic.cat.codes\n",
    "df['secondary_characteristic'] = pd.Categorical(df.secondary_characteristic)\n",
    "df['mapped_secondary'] = df.secondary_characteristic.cat.codes"
   ]
  },
  {
   "cell_type": "markdown",
   "metadata": {},
   "source": [
    "This inferential statistics notebook acts as a pre-cursor to the supervised machine learning algorithm that will be used to predict the number of people killed/injured based on different feature variables. Here, we will be asking a few questions:\n",
    "\n",
    "    1) Do the response variables (n_killed, n_injured) follow a normal distribution?\n",
    "    2) What do the Cumulative Distribution Functions of the response variables look like?\n",
    "    3) What are the confidence intervals of the response variables?\n",
    "    4) Do the response variables display dependence against the feature variables?"
   ]
  },
  {
   "cell_type": "markdown",
   "metadata": {},
   "source": [
    "Let's define a few functions which will be used to perform inferential statistics."
   ]
  },
  {
   "cell_type": "code",
   "execution_count": 4,
   "metadata": {},
   "outputs": [],
   "source": [
    "# Define the cumulative distribution function, which will return the x and y values of a CDF graph.\n",
    "def ecdf(data):\n",
    "    n = len(data)*1.0\n",
    "    x = np.sort(data)\n",
    "    y= np.arange(1,n+1)/n\n",
    "    return x,y\n",
    "\n",
    "# Define the boostrap replicate function which will return the desired summary statistic of a given dataset.\n",
    "def bootstrap_replicate_1d(data, func):\n",
    "    return func(np.random.choice(data, size=len(data)))\n",
    "\n",
    "# Define the multiple-bootstrap replicate function which will return an array of the desired sumary statistic.\n",
    "def draw_bs_reps(data, func, size=1):\n",
    "    \"\"\"Draw bootstrap replicates.\"\"\"\n",
    "\n",
    "    # Initialize array of replicates: bs_replicates\n",
    "    bs_replicates = np.empty(size)\n",
    "    \n",
    "    # Generate replicates\n",
    "    for i in range(size):\n",
    "        bs_replicates[i] = bootstrap_replicate_1d(data,func)\n",
    "\n",
    "    return bs_replicates"
   ]
  },
  {
   "cell_type": "markdown",
   "metadata": {},
   "source": [
    "**1. Begin by checking for Normality**"
   ]
  },
  {
   "cell_type": "markdown",
   "metadata": {},
   "source": [
    "Having already plotted the histograms for n_killed and n_injured, we saw that they did not appear to follow a normal distribution but we can also perform the Shapiro-Wilk test for additional confirmation.\n",
    "\n",
    "Let the null hypothesis be that the variable follows a normal distribution. Therefore the alternative hypothesis is that it does not follow a normal distribution."
   ]
  },
  {
   "cell_type": "code",
   "execution_count": 5,
   "metadata": {},
   "outputs": [
    {
     "name": "stdout",
     "output_type": "stream",
     "text": [
      "Statistics=0.570, p=0.000\n",
      "Sample does not look Gaussian (reject H0)\n"
     ]
    },
    {
     "name": "stderr",
     "output_type": "stream",
     "text": [
      "C:\\Users\\joshu\\Anaconda3\\lib\\site-packages\\scipy\\stats\\morestats.py:1310: UserWarning: p-value may not be accurate for N > 5000.\n",
      "  warnings.warn(\"p-value may not be accurate for N > 5000.\")\n"
     ]
    }
   ],
   "source": [
    "# Perform the Shapiro-Wilk test \n",
    "stat, p = shapiro(df['n_killed'])\n",
    "print('Statistics=%.3f, p=%.3f' % (stat, p))\n",
    "\n",
    "# Interpret the results\n",
    "alpha = 0.05\n",
    "if p > alpha:\n",
    "    print('Sample looks Gaussian (fail to reject H0)')\n",
    "else:\n",
    "    print('Sample does not look Gaussian (reject H0)')"
   ]
  },
  {
   "cell_type": "code",
   "execution_count": 6,
   "metadata": {},
   "outputs": [
    {
     "name": "stdout",
     "output_type": "stream",
     "text": [
      "Statistics=0.723, p=0.000\n",
      "Sample does not look Gaussian (reject H0)\n"
     ]
    },
    {
     "name": "stderr",
     "output_type": "stream",
     "text": [
      "C:\\Users\\joshu\\Anaconda3\\lib\\site-packages\\scipy\\stats\\morestats.py:1310: UserWarning: p-value may not be accurate for N > 5000.\n",
      "  warnings.warn(\"p-value may not be accurate for N > 5000.\")\n"
     ]
    }
   ],
   "source": [
    "# Perform the Shapiro-Wilk test \n",
    "stat, p = shapiro(df['n_injured'])\n",
    "print('Statistics=%.3f, p=%.3f' % (stat, p))\n",
    "\n",
    "# Interpret the results\n",
    "alpha = 0.05\n",
    "if p > alpha:\n",
    "    print('Sample looks Gaussian (fail to reject H0)')\n",
    "else:\n",
    "    print('Sample does not look Gaussian (reject H0)')"
   ]
  },
  {
   "cell_type": "markdown",
   "metadata": {},
   "source": [
    "In both cases, we have a p-value of 0 and therefore we reject the null to conclude that neither follow a normal distribution."
   ]
  },
  {
   "cell_type": "markdown",
   "metadata": {},
   "source": [
    "**2. Plot the CDFs**"
   ]
  },
  {
   "cell_type": "code",
   "execution_count": 7,
   "metadata": {},
   "outputs": [
    {
     "data": {
      "image/png": "[encoded data removed]",
      "text/plain": [
       "<matplotlib.figure.Figure at 0x1d627e53e10>"
      ]
     },
     "metadata": {},
     "output_type": "display_data"
    }
   ],
   "source": [
    "x,y = ecdf(df['n_killed'])\n",
    "\n",
    "fig = plt.figure(figsize = (8,8))\n",
    "_ = plt.subplot(2,1,1)\n",
    "_ = plt.plot(x,y,marker='.',linestyle='none')\n",
    "_ = plt.margins(0.02)\n",
    "_ = plt.xlabel('Number of People Killed')\n",
    "_ = plt.ylabel('ECDF')\n",
    "\n",
    "x2, y2 = ecdf(df['n_injured'])\n",
    "_ = plt.subplot(2,1,2)\n",
    "_ = plt.plot(x2,y2,marker='.',linestyle='none')\n",
    "_ = plt.margins(0.02)\n",
    "_ = plt.xlabel('Number of People Injured')\n",
    "_ = plt.ylabel('ECDF')\n",
    "_ = plt.tight_layout()"
   ]
  },
  {
   "cell_type": "markdown",
   "metadata": {},
   "source": [
    "As expected, the CDFs of both n_killed and n_injured are heavily skewed towards the left due to the fact that an overwhelming number of casualties are minimal. In the case of n_killed, the vast majority of incidents result in 0 deaths. For n_injured, the majority of incidents result in either 0 or 1 injuries. Beyond that are mostly incremental changes in the CDFs as a result of mostly outliers."
   ]
  },
  {
   "cell_type": "markdown",
   "metadata": {},
   "source": [
    "**3. Finding the Confidence Intervals**"
   ]
  },
  {
   "cell_type": "code",
   "execution_count": 8,
   "metadata": {},
   "outputs": [
    {
     "name": "stdout",
     "output_type": "stream",
     "text": [
      "mean for n_killed = 0.285\n",
      "95% confidence interval for n_killed= ['0.279', '0.290']\n",
      "\n",
      "mean for n_injured = 0.765\n",
      "95% confidence interval for n_injured= ['0.757', '0.773']\n"
     ]
    }
   ],
   "source": [
    "# Calculate and store the means of the response variables\n",
    "mean_k = np.mean(df['n_killed'])\n",
    "mean_i = np.mean(df['n_injured'])\n",
    "\n",
    "# Create bootstrap samples \n",
    "bs_replicates_k = draw_bs_reps(df['n_killed'],np.mean,10000)\n",
    "bs_replicates_i = draw_bs_reps(df['n_injured'],np.mean,10000)\n",
    "\n",
    "# Find the 95% confidence interval of both variables \n",
    "conf_int_k = np.percentile(bs_replicates_k,[2.5,97.5])\n",
    "conf_int_i = np.percentile(bs_replicates_i,[2.5,97.5])\n",
    "\n",
    "# Unpacking the confidence intervals and round the numbers\n",
    "k1, k2 = conf_int_k\n",
    "k1 = format(k1, '.3f')\n",
    "k2 = format(k2, '.3f')\n",
    "CI_k = [k1,k2]\n",
    "CI_k\n",
    "i1, i2 = conf_int_i\n",
    "i1 = format(i1, '.3f')\n",
    "i2 = format(i2, '.3f')\n",
    "CI_i = [i1,i2]\n",
    "CI_i\n",
    "    \n",
    "# Print the results\n",
    "print('mean for n_killed =', \"{0:.3f}\".format(mean_k))\n",
    "print('95% confidence interval for n_killed=', CI_k)\n",
    "\n",
    "print('\\nmean for n_injured =', \"{0:.3f}\".format(mean_i))\n",
    "print('95% confidence interval for n_injured=', CI_i)"
   ]
  },
  {
   "cell_type": "markdown",
   "metadata": {},
   "source": [
    "The 95% confidence interval for n_killed is [0.279, 0.289], showing that even an incident with 1 death is a big outlier. \n",
    "\n",
    "The 95% confidence interval for n_injured is [0.758, 0.774], so there is a little more leeway compared to n_killed but the vast majority of incidents still do not exceed 1 injury."
   ]
  },
  {
   "cell_type": "markdown",
   "metadata": {},
   "source": [
    "**4.Checking for Independence**"
   ]
  },
  {
   "cell_type": "markdown",
   "metadata": {},
   "source": [
    "One of the most efficient methods for checking for independence between 2 variables is through the Chi-Square Test for Independence. The null hypothesis for each case is that the variables are independent from one another. Therefore the alternative hypothesis is that they are dependent, which is what we are looking for. If the calculated chi-square test statistic is greater than the critical value given the degrees of freedom, the null will be rejected."
   ]
  },
  {
   "cell_type": "code",
   "execution_count": 9,
   "metadata": {},
   "outputs": [],
   "source": [
    "# Define function chi2_ind that checks for independence.\n",
    "def chi2_ind(x, y):\n",
    "    # Use stats.chi2_contingency() to compute the test statistic, p-value, and degrees of freedom, respectively.\n",
    "    a, b, c = stats.chi2_contingency(pd.crosstab(x, y))[:3]\n",
    "    # Use chi2.isf() to compute the critical value given alpha = 0.01 and the computed degrees of freedom\n",
    "    d = chi2.isf(q = 0.01, df = c)\n",
    "    # If the critical value is less than the test-statistic AND the p-value is less than 0.01, reject the null.\n",
    "    if a > d and b < 0.01:\n",
    "        return True\n",
    "\n",
    "# Define function that applies chi2_ind on n_killed and n_injured as the first argument. Check if n_killed or n_injured\n",
    "# are dependent on the feature variable.\n",
    "def chi2_ind_reps(x):\n",
    "    if chi2_ind(df['n_killed'], x) is True and chi2_ind(df['n_injured'], x) is True:\n",
    "        print('n_killed and n_injured are both dependent on', x.name)\n",
    "    elif chi2_ind(df['n_killed'], x) is True and chi2_ind(df['n_injured'], x) is False:\n",
    "        print('Only n_killed is dependent on', x.name)\n",
    "    elif chi2_ind(df['n_killed'], x) is False and chi2_ind(df['n_injured'], x) is True:\n",
    "        print('Only n_injured is dependent on', x.name)\n",
    "    else:\n",
    "        print('Neither are dependent on', x.name)\n",
    "\n",
    "# Create a list of the feature variables\n",
    "feat_var = [df['mapped_cities'], df['year'], df['participant_gender_female'], df['participant_gender_male'], \n",
    "            df['agegroup_adult'], df['agegroup_child'], df['agegroup_teen'], df['primary_characteristic'], \n",
    "            df['secondary_characteristic'], df['gun_type'], df['congressional_district'], df['state_house_district'], \n",
    "            df['state_senate_district']\n",
    "           ]"
   ]
  },
  {
   "cell_type": "code",
   "execution_count": 10,
   "metadata": {
    "scrolled": true
   },
   "outputs": [
    {
     "name": "stdout",
     "output_type": "stream",
     "text": [
      "n_killed and n_injured are both dependent on mapped_cities\n",
      "n_killed and n_injured are both dependent on year\n",
      "n_killed and n_injured are both dependent on participant_gender_female\n",
      "n_killed and n_injured are both dependent on participant_gender_male\n",
      "n_killed and n_injured are both dependent on agegroup_adult\n",
      "n_killed and n_injured are both dependent on agegroup_child\n",
      "n_killed and n_injured are both dependent on agegroup_teen\n",
      "n_killed and n_injured are both dependent on primary_characteristic\n",
      "n_killed and n_injured are both dependent on secondary_characteristic\n",
      "Neither are dependent on gun_type\n",
      "n_killed and n_injured are both dependent on congressional_district\n",
      "n_killed and n_injured are both dependent on state_house_district\n",
      "n_killed and n_injured are both dependent on state_senate_district\n"
     ]
    },
    {
     "data": {
      "text/plain": [
       "[None, None, None, None, None, None, None, None, None, None, None, None, None]"
      ]
     },
     "execution_count": 10,
     "metadata": {},
     "output_type": "execute_result"
    }
   ],
   "source": [
    "# Apply chi2_ind_reps to the feat_var list\n",
    "list(map(chi2_ind_reps, feat_var))"
   ]
  },
  {
   "cell_type": "markdown",
   "metadata": {},
   "source": [
    "With the exception of gun_type, the response variables (n_killed and n_injured) showed dependence against all the other feature variables. Therefore, we can use these feature variables for the machine learning algorithm. "
   ]
  }
 ],
 "metadata": {
  "kernelspec": {
   "display_name": "Python 3",
   "language": "python",
   "name": "python3"
  },
  "language_info": {
   "codemirror_mode": {
    "name": "ipython",
    "version": 3
   },
   "file_extension": ".py",
   "mimetype": "text/x-python",
   "name": "python",
   "nbconvert_exporter": "python",
   "pygments_lexer": "ipython3",
   "version": "3.6.4"
  }
 },
 "nbformat": 4,
 "nbformat_minor": 2
}
