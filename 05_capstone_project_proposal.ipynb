{
 "cells": [
  {
   "cell_type": "markdown",
   "metadata": {},
   "source": [
    "# Capstone Project Proposal\n",
    "\n",
    "Joshua Kim\n",
    "\n",
    "Springboard Data Science Career Track\n",
    "\n",
    "### 1) Project Name: \n",
    "\n",
    "Gun Violence in the US\n",
    "\n",
    "### 2) Problem Statement:\n",
    "\n",
    "One of the biggest issues that America has faced in the past few decades is mass shootings and it has especially become a hot topic due to the advent of social media. In particular, school shootings are one of the more frequent types of mass shootings that seemingly occur on a weekly basis. According to CNN, there have been 23 school shootings in 2018, ranging from elementary school to college. The vast majority of perpetrators in school shootings have been students who were attending the school. Given the fact that a great number of these students are underaged, a serious debate has emerged regarding gun reform. To put things into perspective, a survey done in 2011 has indicated that American citizens own 90 firearms per 100 residents. This figure was 3 times more than Canada, which was ranked 9th in the world at 30 firearms per 100 residents. Such a shocking statistic highlights just 1 aspect of gun culture in American society and forces a deep discussion into what changes must be implemented to protect innocent children from absurdity.\n",
    "\n",
    "### 3) Clients:\n",
    "\n",
    "I believe that this project would be of interest to many American citizens who are interested in how impactful gun reform can be for the safety of American schools and children. In particular, I would like to garner the attention of individuals and groups who are advocating (as well as opposing) gun reform because theory-crafting and emotional conjectures are not entirely practical compared to using real data and statistics. While mass shootings in general have launched a serious and fervent debate about the prevalence of guns in our society, I am focusing on school shootings because this is an area where I believe many people have a mutual understanding for the necessity of gun reform. As a result, this study will help my client to better assess the degree to which school shootings are preventable with the right changes.\n",
    "\n",
    "### 4) Data Sets:\n",
    "\n",
    "For this report, I will be using the Gun Violence Archive’s database. The GVA is a not for profit corporation whose goal is to provide free public access to information about gun-related violence. While they don’t specifically have a section dedicated for school shooting incidents, the relevant information can be found in the database. I will also be using the Washington Post’s database of school shootings since the Columbine Massacre in ‘99. \n",
    "\n",
    "### 5) Methodology:\n",
    "\n",
    "To begin, I will first do an initial analysis of school shootings that have occured in the last 20 years using a number of different variables such as the date, location, number of victims (killed and injured), motives,etc. Predicting how many shootings can be prevented is a difficult task so I will attempt to simplify the process by looking at different types of gun reform. For example, if Congress decided to outlaw all guns for civilians under the age of 18, how would this change how many school shootings would occur? Another scenario can be what would happen if all non-handgun firearms were banned for civilians under the age of 21? \n",
    "\n",
    "### 6) Deliverables:\n",
    "\n",
    "Deliverables will include the code (data wrangling, EDA, machine learning) and the final report (abstract report and powerpoint presentation) on GitHub. Another potential deliverable could be a blog post."
   ]
  }
 ],
 "metadata": {
  "kernelspec": {
   "display_name": "Python 3",
   "language": "python",
   "name": "python3"
  },
  "language_info": {
   "codemirror_mode": {
    "name": "ipython",
    "version": 3
   },
   "file_extension": ".py",
   "mimetype": "text/x-python",
   "name": "python",
   "nbconvert_exporter": "python",
   "pygments_lexer": "ipython3",
   "version": "3.6.4"
  }
 },
 "nbformat": 4,
 "nbformat_minor": 2
}
